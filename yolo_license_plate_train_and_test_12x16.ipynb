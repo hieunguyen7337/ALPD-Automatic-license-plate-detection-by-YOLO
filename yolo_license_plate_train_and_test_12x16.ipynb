{
  "nbformat": 4,
  "nbformat_minor": 0,
  "metadata": {
    "accelerator": "GPU",
    "colab": {
      "name": "yolo_license_plate_train_and_test_12x16.ipynb",
      "provenance": [],
      "collapsed_sections": [
        "Wj6_t_7ooAco",
        "KxpYWaHF9T1w",
        "H_NlCUJW9Yul",
        "ULrb8eSV9dw1",
        "hpbn_eyz-qD1",
        "rCBRz1Yl8kJL"
      ]
    },
    "kernelspec": {
      "display_name": "Python 3",
      "name": "python3"
    }
  },
  "cells": [
    {
      "cell_type": "markdown",
      "metadata": {
        "id": "Wj6_t_7ooAco"
      },
      "source": [
        "#Import from drive\r\n"
      ]
    },
    {
      "cell_type": "code",
      "metadata": {
        "id": "FU1dSZKgLpY4",
        "colab": {
          "base_uri": "https://localhost:8080/"
        },
        "outputId": "99ebeace-6a20-43b4-cdd9-df802fa5483f"
      },
      "source": [
        "from google.colab import drive\r\n",
        "drive.mount('/content/drive', force_remount=True)"
      ],
      "execution_count": null,
      "outputs": [
        {
          "output_type": "stream",
          "text": [
            "Mounted at /content/drive\n"
          ],
          "name": "stdout"
        }
      ]
    },
    {
      "cell_type": "markdown",
      "metadata": {
        "id": "KxpYWaHF9T1w"
      },
      "source": [
        "#Navigate to directory"
      ]
    },
    {
      "cell_type": "code",
      "metadata": {
        "id": "pr5weoOxXMFr"
      },
      "source": [
        "#minh hieu's dỉrectory\r\n",
        "%cd /content/drive/My Drive/Colab\\ Notebooks/Computer\\ Vision/plate_test/plate_train_2K"
      ],
      "execution_count": null,
      "outputs": []
    },
    {
      "cell_type": "code",
      "metadata": {
        "colab": {
          "base_uri": "https://localhost:8080/"
        },
        "id": "_NMd-O4lL780",
        "outputId": "b2246dba-fa33-4246-9d7c-60aed17ee487"
      },
      "source": [
        "#nhu hieu's directory\r\n",
        "%cd drive\r\n",
        "%cd MyDrive\r\n",
        "%cd BikePlate3K\r\n",
        "%cd plate_train_2K"
      ],
      "execution_count": null,
      "outputs": [
        {
          "output_type": "stream",
          "text": [
            "[Errno 2] No such file or directory: 'drive'\n",
            "/content/drive/MyDrive/BikePlate3K/plate_train_2K\n",
            "[Errno 2] No such file or directory: 'MyDrive'\n",
            "/content/drive/MyDrive/BikePlate3K/plate_train_2K\n",
            "[Errno 2] No such file or directory: 'BikePlate3K'\n",
            "/content/drive/MyDrive/BikePlate3K/plate_train_2K\n",
            "[Errno 2] No such file or directory: 'plate_train_2K'\n",
            "/content/drive/MyDrive/BikePlate3K/plate_train_2K\n"
          ],
          "name": "stdout"
        }
      ]
    },
    {
      "cell_type": "markdown",
      "metadata": {
        "id": "H_NlCUJW9Yul"
      },
      "source": [
        "#Import library"
      ]
    },
    {
      "cell_type": "code",
      "metadata": {
        "id": "FmKx-1hEnNv_"
      },
      "source": [
        "from matplotlib import pyplot as plt\r\n",
        "import keras\r\n",
        "import tensorflow.compat.v2 as tf\r\n",
        "import tensorflow_datasets as tfds\r\n",
        "import numpy as np\r\n",
        "import math\r\n",
        "from keras.utils import to_categorical\r\n",
        "from keras.models import Sequential\r\n",
        "from keras.layers import Conv2D\r\n",
        "from keras.layers import MaxPooling2D\r\n",
        "from keras.layers import Dense\r\n",
        "from keras.layers import Flatten\r\n",
        "from keras.optimizers import SGD\r\n",
        "from keras.layers import BatchNormalization\r\n",
        "from keras.layers import LayerNormalization\r\n",
        "from keras.layers import Input\r\n",
        "from keras.layers import LeakyReLU\r\n",
        "from keras.layers import ZeroPadding2D\r\n",
        "from keras.layers import UpSampling2D\r\n",
        "from keras.layers import Reshape\r\n",
        "from keras.layers.merge import add, concatenate\r\n",
        "from keras.models import Model\r\n",
        "import cv2\r\n",
        "import matplotlib.image as mpimg\r\n",
        "\r\n",
        "\r\n",
        "tf.enable_v2_behavior()"
      ],
      "execution_count": null,
      "outputs": []
    },
    {
      "cell_type": "markdown",
      "metadata": {
        "id": "ULrb8eSV9dw1"
      },
      "source": [
        "#Show an image or text"
      ]
    },
    {
      "cell_type": "code",
      "metadata": {
        "colab": {
          "base_uri": "https://localhost:8080/"
        },
        "id": "U3kAJo_19LpP",
        "outputId": "8d1893dd-807b-4b6e-c325-20d7707a67a2"
      },
      "source": [
        "with open('image_0002.txt') as f:\r\n",
        "  r = f.read()\r\n",
        "#print(r)\r\n",
        "th_number = 2\r\n",
        "t1_train = []\r\n",
        "for i in range(4):\r\n",
        "  outtrain = ''\r\n",
        "  while(r[th_number] != ' '):\r\n",
        "    outtrain = outtrain + r[th_number]\r\n",
        "    th_number += 1\r\n",
        "  outtrain = int(outtrain)\r\n",
        "  th_number += 1\r\n",
        "  t1_train.append(outtrain)\r\n",
        "print(t1_train)\r\n",
        "#t1_train[0] = (t1_train[0]+t1_train[2]/2)/40\r\n",
        "#t1_train[1] = (t1_train[1]+t1_train[3]/2)/40\r\n",
        "#t1_train[2] = t1_train[2]/240\r\n",
        "#t1_train[3] = t1_train[3]/160\r\n",
        "t1_train[2] += t1_train[0]\r\n",
        "t1_train[3] += t1_train[1]\r\n",
        "#print(t1_train)\r\n",
        "print(t1_train)"
      ],
      "execution_count": null,
      "outputs": [
        {
          "output_type": "stream",
          "text": [
            "[329, 352, 141, 107]\n",
            "[329, 352, 470, 459]\n"
          ],
          "name": "stdout"
        }
      ]
    },
    {
      "cell_type": "code",
      "metadata": {
        "colab": {
          "base_uri": "https://localhost:8080/",
          "height": 303
        },
        "id": "HwDDMpRSoI6N",
        "outputId": "93611f8b-f017-4e41-d7ae-75ca8d4fe90d"
      },
      "source": [
        "img = mpimg.imread('image_0002.jpg')\r\n",
        "gray = cv2.cvtColor(img, cv2.COLOR_BGR2GRAY)\r\n",
        "kernel = np.ones((5,5),np.uint8)\r\n",
        "dilation = cv2.dilate(gray,kernel,iterations = 1)\r\n",
        "dilation = cv2.rectangle(dilation, (t1_train[0],t1_train[1]), (t1_train[2],t1_train[3]), (0, 255, 0), 3)\r\n",
        "#dilation = dilation.reshape(480, 640, 1)\r\n",
        "#canny = cv2.Canny(dilation, 120, 255, 1)\r\n",
        "plt.imshow(dilation)\r\n",
        "plt.show()\r\n",
        "print(dilation.shape)\r\n",
        "print(type(dilation))"
      ],
      "execution_count": null,
      "outputs": [
        {
          "output_type": "display_data",
          "data": {
            "image/png": "[encoded data removed]",
            "text/plain": [
              "<Figure size 432x288 with 1 Axes>"
            ]
          },
          "metadata": {
            "tags": [],
            "needs_background": "light"
          }
        },
        {
          "output_type": "stream",
          "text": [
            "(480, 640)\n",
            "<class 'numpy.ndarray'>\n"
          ],
          "name": "stdout"
        }
      ]
    },
    {
      "cell_type": "markdown",
      "metadata": {
        "id": "hpbn_eyz-qD1"
      },
      "source": [
        "#Load training and testing dataset, load validation data"
      ]
    },
    {
      "cell_type": "code",
      "metadata": {
        "id": "2pCzisTgi2Q-",
        "colab": {
          "base_uri": "https://localhost:8080/"
        },
        "outputId": "5a13fff0-2067-41da-9fbf-881717dfcbd4"
      },
      "source": [
        "image_train = []\r\n",
        "for i in range(1,2001):\r\n",
        "  if i < 10 :\r\n",
        "    img = mpimg.imread('image_000'+str(i)+'.jpg')\r\n",
        "  elif i < 100 :\r\n",
        "    img = mpimg.imread('image_00'+str(i)+'.jpg')\r\n",
        "  elif i < 1000 :\r\n",
        "    img = mpimg.imread('image_0'+str(i)+'.jpg')\r\n",
        "  else :\r\n",
        "    img = mpimg.imread('image_'+str(i)+'.jpg')\r\n",
        "  gray = cv2.cvtColor(img, cv2.COLOR_BGR2GRAY)\r\n",
        "  kernel = np.ones((5,5),np.uint8)\r\n",
        "  dilation = cv2.dilate(gray,kernel,iterations = 1)\r\n",
        "  dilation = dilation.reshape(480, 640, 1)\r\n",
        "  image_train.append(dilation)\r\n",
        "image_train = np.array(image_train)\r\n",
        "print(image_train.shape)"
      ],
      "execution_count": null,
      "outputs": [
        {
          "output_type": "stream",
          "text": [
            "(2000, 480, 640, 1)\n"
          ],
          "name": "stdout"
        }
      ]
    },
    {
      "cell_type": "code",
      "metadata": {
        "id": "SBh4QZFNfsbC",
        "colab": {
          "base_uri": "https://localhost:8080/"
        },
        "outputId": "19046482-ebf8-4703-9b21-02ece7e9e688"
      },
      "source": [
        "image_test = []\r\n",
        "for i in range(1501,2001):\r\n",
        "  if i < 10 :\r\n",
        "    img = mpimg.imread('image_000'+str(i)+'.jpg')\r\n",
        "  elif i < 100 :\r\n",
        "    img = mpimg.imread('image_00'+str(i)+'.jpg')\r\n",
        "  elif i < 1000 :\r\n",
        "    img = mpimg.imread('image_0'+str(i)+'.jpg')\r\n",
        "  else :\r\n",
        "    img = mpimg.imread('image_'+str(i)+'.jpg')\r\n",
        "  gray = cv2.cvtColor(img, cv2.COLOR_BGR2GRAY)\r\n",
        "  kernel = np.ones((5,5),np.uint8)\r\n",
        "  dilation = cv2.dilate(gray,kernel,iterations = 1)\r\n",
        "  dilation = dilation.reshape(480, 640, 1)\r\n",
        "  \r\n",
        "  image_test.append(dilation)\r\n",
        "image_test = np.array(image_test)\r\n",
        "print(image_test.shape)"
      ],
      "execution_count": null,
      "outputs": [
        {
          "output_type": "stream",
          "text": [
            "(500, 480, 640, 1)\n"
          ],
          "name": "stdout"
        }
      ]
    },
    {
      "cell_type": "code",
      "metadata": {
        "id": "a3AeKaqIpZzs",
        "colab": {
          "base_uri": "https://localhost:8080/"
        },
        "outputId": "96e3b2ca-2d41-4ee2-9798-49111df820dc"
      },
      "source": [
        "w_max = 0\r\n",
        "h_max = 0\r\n",
        "w_min = 1\r\n",
        "h_min = 1\r\n",
        "text_train = []\r\n",
        "num_train = 2000\r\n",
        "for j in range(1,num_train+1):\r\n",
        "  t1_train = []\r\n",
        "  if j < 10:\r\n",
        "    with open('image_000'+str(j)+'.txt') as f:\r\n",
        "      r = f.read()\r\n",
        "  elif j < 100:\r\n",
        "    with open('image_00'+str(j)+'.txt') as f:\r\n",
        "      r = f.read()\r\n",
        "  elif j < 1000:\r\n",
        "    with open('image_0'+str(j)+'.txt') as f:\r\n",
        "      r = f.read()\r\n",
        "  else:\r\n",
        "    with open('image_'+str(j)+'.txt') as f:\r\n",
        "      r = f.read()\r\n",
        "  th_number = 2\r\n",
        "  for i in range(4):\r\n",
        "    outtrain = ''\r\n",
        "    while(r[th_number] != ' '):\r\n",
        "      outtrain = outtrain + r[th_number]\r\n",
        "      th_number += 1\r\n",
        "    outtrain = int(outtrain)\r\n",
        "    th_number += 1\r\n",
        "    t1_train.append(outtrain)\r\n",
        "  t1_train[0] = (t1_train[0]+t1_train[2]/2)/40\r\n",
        "  t1_train[1] = (t1_train[1]+t1_train[3]/2)/40\r\n",
        "  t1_train[2] = t1_train[2]/320\r\n",
        "  t1_train[3] = t1_train[3]/240\r\n",
        "  text_train.append(np.zeros((12,16,5)))\r\n",
        "  for k in range(12):\r\n",
        "    for l in range(16):\r\n",
        "      for m in range(1,5):\r\n",
        "        text_train[j-1][k][l][m] = 0.5\r\n",
        "  if t1_train[2] > w_max:\r\n",
        "    w_max = t1_train[2]\r\n",
        "  if t1_train[2] < w_min:\r\n",
        "    w_min = t1_train[2]\r\n",
        "  if t1_train[3] > h_max:\r\n",
        "    h_max = t1_train[3]\r\n",
        "  if t1_train[3] < h_min:\r\n",
        "    h_min = t1_train[3]\r\n",
        "  if j == 15:\r\n",
        "    print(t1_train)\r\n",
        "  x_grid = math.floor(t1_train[0])\r\n",
        "  y_grid = math.floor(t1_train[1])\r\n",
        "  #print(x_grid)\r\n",
        "  #print(y_grid)\r\n",
        "  #print(t1_train)\r\n",
        "  text_train[j-1][y_grid][x_grid][0] = 1\r\n",
        "  text_train[j-1][y_grid][x_grid][1] = t1_train[0] - x_grid\r\n",
        "  text_train[j-1][y_grid][x_grid][2] = t1_train[1] - y_grid\r\n",
        "  text_train[j-1][y_grid][x_grid][3] = t1_train[2]\r\n",
        "  text_train[j-1][y_grid][x_grid][4] = t1_train[3]\r\n",
        "text_train = np.array(text_train)\r\n",
        "#print(t1_train)\r\n",
        "print(text_train.shape)\r\n",
        "print(type(text_train))\r\n",
        "print(text_train[1])\r\n",
        "print(w_max)\r\n",
        "print(h_max)\r\n",
        "print(w_min)\r\n",
        "print(h_min)"
      ],
      "execution_count": null,
      "outputs": [
        {
          "output_type": "stream",
          "text": [
            "[12.7, 10.4125, 0.34375, 0.3458333333333333]\n",
            "(2000, 12, 16, 5)\n",
            "<class 'numpy.ndarray'>\n",
            "[[[0.         0.5        0.5        0.5        0.5       ]\n",
            "  [0.         0.5        0.5        0.5        0.5       ]\n",
            "  [0.         0.5        0.5        0.5        0.5       ]\n",
            "  [0.         0.5        0.5        0.5        0.5       ]\n",
            "  [0.         0.5        0.5        0.5        0.5       ]\n",
            "  [0.         0.5        0.5        0.5        0.5       ]\n",
            "  [0.         0.5        0.5        0.5        0.5       ]\n",
            "  [0.         0.5        0.5        0.5        0.5       ]\n",
            "  [0.         0.5        0.5        0.5        0.5       ]\n",
            "  [0.         0.5        0.5        0.5        0.5       ]\n",
            "  [0.         0.5        0.5        0.5        0.5       ]\n",
            "  [0.         0.5        0.5        0.5        0.5       ]\n",
            "  [0.         0.5        0.5        0.5        0.5       ]\n",
            "  [0.         0.5        0.5        0.5        0.5       ]\n",
            "  [0.         0.5        0.5        0.5        0.5       ]\n",
            "  [0.         0.5        0.5        0.5        0.5       ]]\n",
            "\n",
            " [[0.         0.5        0.5        0.5        0.5       ]\n",
            "  [0.         0.5        0.5        0.5        0.5       ]\n",
            "  [0.         0.5        0.5        0.5        0.5       ]\n",
            "  [0.         0.5        0.5        0.5        0.5       ]\n",
            "  [0.         0.5        0.5        0.5        0.5       ]\n",
            "  [0.         0.5        0.5        0.5        0.5       ]\n",
            "  [0.         0.5        0.5        0.5        0.5       ]\n",
            "  [0.         0.5        0.5        0.5        0.5       ]\n",
            "  [0.         0.5        0.5        0.5        0.5       ]\n",
            "  [0.         0.5        0.5        0.5        0.5       ]\n",
            "  [0.         0.5        0.5        0.5        0.5       ]\n",
            "  [0.         0.5        0.5        0.5        0.5       ]\n",
            "  [0.         0.5        0.5        0.5        0.5       ]\n",
            "  [0.         0.5        0.5        0.5        0.5       ]\n",
            "  [0.         0.5        0.5        0.5        0.5       ]\n",
            "  [0.         0.5        0.5        0.5        0.5       ]]\n",
            "\n",
            " [[0.         0.5        0.5        0.5        0.5       ]\n",
            "  [0.         0.5        0.5        0.5        0.5       ]\n",
            "  [0.         0.5        0.5        0.5        0.5       ]\n",
            "  [0.         0.5        0.5        0.5        0.5       ]\n",
            "  [0.         0.5        0.5        0.5        0.5       ]\n",
            "  [0.         0.5        0.5        0.5        0.5       ]\n",
            "  [0.         0.5        0.5        0.5        0.5       ]\n",
            "  [0.         0.5        0.5        0.5        0.5       ]\n",
            "  [0.         0.5        0.5        0.5        0.5       ]\n",
            "  [0.         0.5        0.5        0.5        0.5       ]\n",
            "  [0.         0.5        0.5        0.5        0.5       ]\n",
            "  [0.         0.5        0.5        0.5        0.5       ]\n",
            "  [0.         0.5        0.5        0.5        0.5       ]\n",
            "  [0.         0.5        0.5        0.5        0.5       ]\n",
            "  [0.         0.5        0.5        0.5        0.5       ]\n",
            "  [0.         0.5        0.5        0.5        0.5       ]]\n",
            "\n",
            " [[0.         0.5        0.5        0.5        0.5       ]\n",
            "  [0.         0.5        0.5        0.5        0.5       ]\n",
            "  [0.         0.5        0.5        0.5        0.5       ]\n",
            "  [0.         0.5        0.5        0.5        0.5       ]\n",
            "  [0.         0.5        0.5        0.5        0.5       ]\n",
            "  [0.         0.5        0.5        0.5        0.5       ]\n",
            "  [0.         0.5        0.5        0.5        0.5       ]\n",
            "  [0.         0.5        0.5        0.5        0.5       ]\n",
            "  [0.         0.5        0.5        0.5        0.5       ]\n",
            "  [0.         0.5        0.5        0.5        0.5       ]\n",
            "  [0.         0.5        0.5        0.5        0.5       ]\n",
            "  [0.         0.5        0.5        0.5        0.5       ]\n",
            "  [0.         0.5        0.5        0.5        0.5       ]\n",
            "  [0.         0.5        0.5        0.5        0.5       ]\n",
            "  [0.         0.5        0.5        0.5        0.5       ]\n",
            "  [0.         0.5        0.5        0.5        0.5       ]]\n",
            "\n",
            " [[0.         0.5        0.5        0.5        0.5       ]\n",
            "  [0.         0.5        0.5        0.5        0.5       ]\n",
            "  [0.         0.5        0.5        0.5        0.5       ]\n",
            "  [0.         0.5        0.5        0.5        0.5       ]\n",
            "  [0.         0.5        0.5        0.5        0.5       ]\n",
            "  [0.         0.5        0.5        0.5        0.5       ]\n",
            "  [0.         0.5        0.5        0.5        0.5       ]\n",
            "  [0.         0.5        0.5        0.5        0.5       ]\n",
            "  [0.         0.5        0.5        0.5        0.5       ]\n",
            "  [0.         0.5        0.5        0.5        0.5       ]\n",
            "  [0.         0.5        0.5        0.5        0.5       ]\n",
            "  [0.         0.5        0.5        0.5        0.5       ]\n",
            "  [0.         0.5        0.5        0.5        0.5       ]\n",
            "  [0.         0.5        0.5        0.5        0.5       ]\n",
            "  [0.         0.5        0.5        0.5        0.5       ]\n",
            "  [0.         0.5        0.5        0.5        0.5       ]]\n",
            "\n",
            " [[0.         0.5        0.5        0.5        0.5       ]\n",
            "  [0.         0.5        0.5        0.5        0.5       ]\n",
            "  [0.         0.5        0.5        0.5        0.5       ]\n",
            "  [0.         0.5        0.5        0.5        0.5       ]\n",
            "  [0.         0.5        0.5        0.5        0.5       ]\n",
            "  [0.         0.5        0.5        0.5        0.5       ]\n",
            "  [0.         0.5        0.5        0.5        0.5       ]\n",
            "  [0.         0.5        0.5        0.5        0.5       ]\n",
            "  [0.         0.5        0.5        0.5        0.5       ]\n",
            "  [0.         0.5        0.5        0.5        0.5       ]\n",
            "  [0.         0.5        0.5        0.5        0.5       ]\n",
            "  [0.         0.5        0.5        0.5        0.5       ]\n",
            "  [0.         0.5        0.5        0.5        0.5       ]\n",
            "  [0.         0.5        0.5        0.5        0.5       ]\n",
            "  [0.         0.5        0.5        0.5        0.5       ]\n",
            "  [0.         0.5        0.5        0.5        0.5       ]]\n",
            "\n",
            " [[0.         0.5        0.5        0.5        0.5       ]\n",
            "  [0.         0.5        0.5        0.5        0.5       ]\n",
            "  [0.         0.5        0.5        0.5        0.5       ]\n",
            "  [0.         0.5        0.5        0.5        0.5       ]\n",
            "  [0.         0.5        0.5        0.5        0.5       ]\n",
            "  [0.         0.5        0.5        0.5        0.5       ]\n",
            "  [0.         0.5        0.5        0.5        0.5       ]\n",
            "  [0.         0.5        0.5        0.5        0.5       ]\n",
            "  [0.         0.5        0.5        0.5        0.5       ]\n",
            "  [0.         0.5        0.5        0.5        0.5       ]\n",
            "  [0.         0.5        0.5        0.5        0.5       ]\n",
            "  [0.         0.5        0.5        0.5        0.5       ]\n",
            "  [0.         0.5        0.5        0.5        0.5       ]\n",
            "  [0.         0.5        0.5        0.5        0.5       ]\n",
            "  [0.         0.5        0.5        0.5        0.5       ]\n",
            "  [0.         0.5        0.5        0.5        0.5       ]]\n",
            "\n",
            " [[0.         0.5        0.5        0.5        0.5       ]\n",
            "  [0.         0.5        0.5        0.5        0.5       ]\n",
            "  [0.         0.5        0.5        0.5        0.5       ]\n",
            "  [0.         0.5        0.5        0.5        0.5       ]\n",
            "  [0.         0.5        0.5        0.5        0.5       ]\n",
            "  [0.         0.5        0.5        0.5        0.5       ]\n",
            "  [0.         0.5        0.5        0.5        0.5       ]\n",
            "  [0.         0.5        0.5        0.5        0.5       ]\n",
            "  [0.         0.5        0.5        0.5        0.5       ]\n",
            "  [0.         0.5        0.5        0.5        0.5       ]\n",
            "  [0.         0.5        0.5        0.5        0.5       ]\n",
            "  [0.         0.5        0.5        0.5        0.5       ]\n",
            "  [0.         0.5        0.5        0.5        0.5       ]\n",
            "  [0.         0.5        0.5        0.5        0.5       ]\n",
            "  [0.         0.5        0.5        0.5        0.5       ]\n",
            "  [0.         0.5        0.5        0.5        0.5       ]]\n",
            "\n",
            " [[0.         0.5        0.5        0.5        0.5       ]\n",
            "  [0.         0.5        0.5        0.5        0.5       ]\n",
            "  [0.         0.5        0.5        0.5        0.5       ]\n",
            "  [0.         0.5        0.5        0.5        0.5       ]\n",
            "  [0.         0.5        0.5        0.5        0.5       ]\n",
            "  [0.         0.5        0.5        0.5        0.5       ]\n",
            "  [0.         0.5        0.5        0.5        0.5       ]\n",
            "  [0.         0.5        0.5        0.5        0.5       ]\n",
            "  [0.         0.5        0.5        0.5        0.5       ]\n",
            "  [0.         0.5        0.5        0.5        0.5       ]\n",
            "  [0.         0.5        0.5        0.5        0.5       ]\n",
            "  [0.         0.5        0.5        0.5        0.5       ]\n",
            "  [0.         0.5        0.5        0.5        0.5       ]\n",
            "  [0.         0.5        0.5        0.5        0.5       ]\n",
            "  [0.         0.5        0.5        0.5        0.5       ]\n",
            "  [0.         0.5        0.5        0.5        0.5       ]]\n",
            "\n",
            " [[0.         0.5        0.5        0.5        0.5       ]\n",
            "  [0.         0.5        0.5        0.5        0.5       ]\n",
            "  [0.         0.5        0.5        0.5        0.5       ]\n",
            "  [0.         0.5        0.5        0.5        0.5       ]\n",
            "  [0.         0.5        0.5        0.5        0.5       ]\n",
            "  [0.         0.5        0.5        0.5        0.5       ]\n",
            "  [0.         0.5        0.5        0.5        0.5       ]\n",
            "  [0.         0.5        0.5        0.5        0.5       ]\n",
            "  [0.         0.5        0.5        0.5        0.5       ]\n",
            "  [0.         0.5        0.5        0.5        0.5       ]\n",
            "  [0.         0.5        0.5        0.5        0.5       ]\n",
            "  [0.         0.5        0.5        0.5        0.5       ]\n",
            "  [0.         0.5        0.5        0.5        0.5       ]\n",
            "  [0.         0.5        0.5        0.5        0.5       ]\n",
            "  [0.         0.5        0.5        0.5        0.5       ]\n",
            "  [0.         0.5        0.5        0.5        0.5       ]]\n",
            "\n",
            " [[0.         0.5        0.5        0.5        0.5       ]\n",
            "  [0.         0.5        0.5        0.5        0.5       ]\n",
            "  [0.         0.5        0.5        0.5        0.5       ]\n",
            "  [0.         0.5        0.5        0.5        0.5       ]\n",
            "  [0.         0.5        0.5        0.5        0.5       ]\n",
            "  [0.         0.5        0.5        0.5        0.5       ]\n",
            "  [0.         0.5        0.5        0.5        0.5       ]\n",
            "  [0.         0.5        0.5        0.5        0.5       ]\n",
            "  [0.         0.5        0.5        0.5        0.5       ]\n",
            "  [1.         0.9875     0.1375     0.440625   0.44583333]\n",
            "  [0.         0.5        0.5        0.5        0.5       ]\n",
            "  [0.         0.5        0.5        0.5        0.5       ]\n",
            "  [0.         0.5        0.5        0.5        0.5       ]\n",
            "  [0.         0.5        0.5        0.5        0.5       ]\n",
            "  [0.         0.5        0.5        0.5        0.5       ]\n",
            "  [0.         0.5        0.5        0.5        0.5       ]]\n",
            "\n",
            " [[0.         0.5        0.5        0.5        0.5       ]\n",
            "  [0.         0.5        0.5        0.5        0.5       ]\n",
            "  [0.         0.5        0.5        0.5        0.5       ]\n",
            "  [0.         0.5        0.5        0.5        0.5       ]\n",
            "  [0.         0.5        0.5        0.5        0.5       ]\n",
            "  [0.         0.5        0.5        0.5        0.5       ]\n",
            "  [0.         0.5        0.5        0.5        0.5       ]\n",
            "  [0.         0.5        0.5        0.5        0.5       ]\n",
            "  [0.         0.5        0.5        0.5        0.5       ]\n",
            "  [0.         0.5        0.5        0.5        0.5       ]\n",
            "  [0.         0.5        0.5        0.5        0.5       ]\n",
            "  [0.         0.5        0.5        0.5        0.5       ]\n",
            "  [0.         0.5        0.5        0.5        0.5       ]\n",
            "  [0.         0.5        0.5        0.5        0.5       ]\n",
            "  [0.         0.5        0.5        0.5        0.5       ]\n",
            "  [0.         0.5        0.5        0.5        0.5       ]]]\n",
            "0.5875\n",
            "0.6375\n",
            "0.265625\n",
            "0.26666666666666666\n"
          ],
          "name": "stdout"
        }
      ]
    },
    {
      "cell_type": "code",
      "metadata": {
        "id": "4z1yVBLPiCR6",
        "colab": {
          "base_uri": "https://localhost:8080/"
        },
        "outputId": "dfa06440-f862-4145-988e-c9f1abb9e560"
      },
      "source": [
        "text_test = []\r\n",
        "begin = 1500\r\n",
        "for j in range(begin+1,2001):\r\n",
        "  text_test.append([])\r\n",
        "  if j < 10:\r\n",
        "    with open('image_000'+str(j)+'.txt') as f:\r\n",
        "      r = f.read()\r\n",
        "  elif j < 100:\r\n",
        "    with open('image_00'+str(j)+'.txt') as f:\r\n",
        "      r = f.read()\r\n",
        "  elif j < 1000:\r\n",
        "    with open('image_0'+str(j)+'.txt') as f:\r\n",
        "      r = f.read()\r\n",
        "  else:\r\n",
        "    with open('image_'+str(j)+'.txt') as f:\r\n",
        "      r = f.read()\r\n",
        "  th_number = 2\r\n",
        "  for i in range(4):\r\n",
        "    outtrain = ''\r\n",
        "    while(r[th_number] != ' '):\r\n",
        "      outtrain = outtrain + r[th_number]\r\n",
        "      th_number += 1\r\n",
        "    outtrain = int(outtrain)\r\n",
        "    th_number += 1\r\n",
        "    text_test[j-begin-1].append(outtrain)\r\n",
        "  text_test[j-begin-1][2] += text_test[j-begin-1][0]\r\n",
        "  text_test[j-begin-1][3] += text_test[j-begin-1][1]\r\n",
        "print(t1_train)\r\n",
        "text_test = np.array(text_test)\r\n",
        "print(text_test.shape)\r\n",
        "print(type(text_test))\r\n",
        "print(text_test[499])"
      ],
      "execution_count": null,
      "outputs": [
        {
          "output_type": "stream",
          "text": [
            "[11.75, 5.25, 0.4375, 0.44166666666666665]\n",
            "(500, 4)\n",
            "<class 'numpy.ndarray'>\n",
            "[400 157 540 263]\n"
          ],
          "name": "stdout"
        }
      ]
    },
    {
      "cell_type": "code",
      "metadata": {
        "id": "NSxs_qVpqYrr",
        "colab": {
          "base_uri": "https://localhost:8080/"
        },
        "outputId": "6a327b78-aa0e-4fc4-a354-8b232db6c5a5"
      },
      "source": [
        "image_val = image_train[-100:]\r\n",
        "text_val = text_train[-100:]\r\n",
        "image_train = image_train[:-100]\r\n",
        "text_train = text_train[:-100]\r\n",
        "print(image_val.shape)\r\n",
        "print(text_val.shape)\r\n",
        "print(image_train.shape)\r\n",
        "print(text_train.shape)"
      ],
      "execution_count": null,
      "outputs": [
        {
          "output_type": "stream",
          "text": [
            "(100, 480, 640, 1)\n",
            "(100, 12, 16, 5)\n",
            "(1900, 480, 640, 1)\n",
            "(1900, 12, 16, 5)\n"
          ],
          "name": "stdout"
        }
      ]
    },
    {
      "cell_type": "markdown",
      "metadata": {
        "id": "rCBRz1Yl8kJL"
      },
      "source": [
        "#Model Architecture"
      ]
    },
    {
      "cell_type": "code",
      "metadata": {
        "id": "x6mfegBYm4Vm",
        "colab": {
          "base_uri": "https://localhost:8080/"
        },
        "outputId": "652e3f27-c356-4787-e256-9ebf408a5865"
      },
      "source": [
        "model = Sequential()\r\n",
        "model.add(Conv2D(64, (7, 7), padding=\"same\", activation=LeakyReLU(), kernel_initializer='he_uniform', input_shape=(480, 640, 1)))\r\n",
        "model.add(BatchNormalization())\r\n",
        "model.add(Conv2D(64, (7, 7), padding=\"same\", activation=LeakyReLU(), kernel_initializer='he_uniform'))\r\n",
        "model.add(BatchNormalization())\r\n",
        "model.add(MaxPooling2D((2, 2)))\r\n",
        "model.add(MaxPooling2D((2, 2)))\r\n",
        "model.add(Conv2D(192, (3, 3), padding=\"same\", activation=LeakyReLU(), kernel_initializer='he_uniform'))\r\n",
        "model.add(BatchNormalization())\r\n",
        "model.add(MaxPooling2D((2, 2)))\r\n",
        "model.add(Conv2D(128, (1, 1), padding=\"same\", activation=LeakyReLU(), kernel_initializer='he_uniform'))\r\n",
        "model.add(Conv2D(256, (3, 3), padding=\"same\", activation=LeakyReLU(), kernel_initializer='he_uniform'))\r\n",
        "model.add(BatchNormalization())\r\n",
        "model.add(Conv2D(256, (1, 1), padding=\"same\", activation=LeakyReLU(), kernel_initializer='he_uniform'))\r\n",
        "model.add(Conv2D(512, (3, 3), padding=\"same\", activation=LeakyReLU(), kernel_initializer='he_uniform'))\r\n",
        "model.add(BatchNormalization())\r\n",
        "model.add(MaxPooling2D((2, 2)))\r\n",
        "model.add(Conv2D(256, (1, 1), padding=\"same\", activation=LeakyReLU(), kernel_initializer='he_uniform'))\r\n",
        "model.add(Conv2D(512, (3, 3), padding=\"same\", activation=LeakyReLU(), kernel_initializer='he_uniform'))\r\n",
        "model.add(BatchNormalization())\r\n",
        "model.add(Conv2D(256, (1, 1), padding=\"same\", activation=LeakyReLU(), kernel_initializer='he_uniform'))\r\n",
        "model.add(Conv2D(512, (3, 3), padding=\"same\", activation=LeakyReLU(), kernel_initializer='he_uniform'))\r\n",
        "model.add(BatchNormalization())\r\n",
        "model.add(Conv2D(512, (1, 1), padding=\"same\", activation=LeakyReLU(), kernel_initializer='he_uniform'))\r\n",
        "model.add(Conv2D(1024, (3, 3), padding=\"same\", activation=LeakyReLU(), kernel_initializer='he_uniform'))\r\n",
        "model.add(BatchNormalization())\r\n",
        "model.add(MaxPooling2D((2, 2)))\r\n",
        "model.add(Conv2D(512, (1, 1), padding=\"same\", activation=LeakyReLU(), kernel_initializer='he_uniform'))\r\n",
        "model.add(Conv2D(1024, (3, 3), padding=\"same\", activation=LeakyReLU(), kernel_initializer='he_uniform'))\r\n",
        "model.add(BatchNormalization())\r\n",
        "model.add(Conv2D(512, (1, 1), padding=\"same\", activation=LeakyReLU(), kernel_initializer='he_uniform'))\r\n",
        "model.add(Conv2D(1024, (3, 3), padding=\"same\", activation=LeakyReLU(), kernel_initializer='he_uniform'))\r\n",
        "model.add(BatchNormalization())\r\n",
        "model.add(Conv2D(1024, (3, 3), padding=\"same\", activation=LeakyReLU(), kernel_initializer='he_uniform'))\r\n",
        "model.add(BatchNormalization())\r\n",
        "#model.add(MaxPooling2D((2, 2)))\r\n",
        "model.add(Conv2D(1024, (3, 3), padding=\"valid\", activation=LeakyReLU(), kernel_initializer='he_uniform'))\r\n",
        "model.add(BatchNormalization())\r\n",
        "model.add(Conv2D(1024, (2, 3), padding=\"valid\", activation=LeakyReLU(), kernel_initializer='he_uniform'))\r\n",
        "model.add(BatchNormalization())\r\n",
        "model.add(Dense(64, activation=LeakyReLU(), kernel_initializer='he_uniform'))\r\n",
        "model.add(BatchNormalization())\r\n",
        "model.add(Flatten())\r\n",
        "model.add(Dense(1024, activation=LeakyReLU(), kernel_initializer='he_uniform'))\r\n",
        "model.add(BatchNormalization())\r\n",
        "model.add(Dense(960, activation='sigmoid', kernel_initializer='he_uniform'))\r\n",
        "model.add(Reshape((12, 16, 5), input_shape=(960,)))\r\n",
        "#for layer in model.layers:\r\n",
        " #   print(layer.output_shape)\r\n",
        "model.summary()"
      ],
      "execution_count": null,
      "outputs": [
        {
          "output_type": "stream",
          "text": [
            "Model: \"sequential_3\"\n",
            "_________________________________________________________________\n",
            "Layer (type)                 Output Shape              Param #   \n",
            "=================================================================\n",
            "conv2d_41 (Conv2D)           (None, 480, 640, 64)      3200      \n",
            "_________________________________________________________________\n",
            "batch_normalization_30 (Batc (None, 480, 640, 64)      256       \n",
            "_________________________________________________________________\n",
            "conv2d_42 (Conv2D)           (None, 480, 640, 64)      200768    \n",
            "_________________________________________________________________\n",
            "batch_normalization_31 (Batc (None, 480, 640, 64)      256       \n",
            "_________________________________________________________________\n",
            "max_pooling2d_10 (MaxPooling (None, 240, 320, 64)      0         \n",
            "_________________________________________________________________\n",
            "max_pooling2d_11 (MaxPooling (None, 120, 160, 64)      0         \n",
            "_________________________________________________________________\n",
            "conv2d_43 (Conv2D)           (None, 120, 160, 192)     110784    \n",
            "_________________________________________________________________\n",
            "batch_normalization_32 (Batc (None, 120, 160, 192)     768       \n",
            "_________________________________________________________________\n",
            "max_pooling2d_12 (MaxPooling (None, 60, 80, 192)       0         \n",
            "_________________________________________________________________\n",
            "conv2d_44 (Conv2D)           (None, 60, 80, 128)       24704     \n",
            "_________________________________________________________________\n",
            "conv2d_45 (Conv2D)           (None, 60, 80, 256)       295168    \n",
            "_________________________________________________________________\n",
            "batch_normalization_33 (Batc (None, 60, 80, 256)       1024      \n",
            "_________________________________________________________________\n",
            "conv2d_46 (Conv2D)           (None, 60, 80, 256)       65792     \n",
            "_________________________________________________________________\n",
            "conv2d_47 (Conv2D)           (None, 60, 80, 512)       1180160   \n",
            "_________________________________________________________________\n",
            "batch_normalization_34 (Batc (None, 60, 80, 512)       2048      \n",
            "_________________________________________________________________\n",
            "max_pooling2d_13 (MaxPooling (None, 30, 40, 512)       0         \n",
            "_________________________________________________________________\n",
            "conv2d_48 (Conv2D)           (None, 30, 40, 256)       131328    \n",
            "_________________________________________________________________\n",
            "conv2d_49 (Conv2D)           (None, 30, 40, 512)       1180160   \n",
            "_________________________________________________________________\n",
            "batch_normalization_35 (Batc (None, 30, 40, 512)       2048      \n",
            "_________________________________________________________________\n",
            "conv2d_50 (Conv2D)           (None, 30, 40, 256)       131328    \n",
            "_________________________________________________________________\n",
            "conv2d_51 (Conv2D)           (None, 30, 40, 512)       1180160   \n",
            "_________________________________________________________________\n",
            "batch_normalization_36 (Batc (None, 30, 40, 512)       2048      \n",
            "_________________________________________________________________\n",
            "conv2d_52 (Conv2D)           (None, 30, 40, 512)       262656    \n",
            "_________________________________________________________________\n",
            "conv2d_53 (Conv2D)           (None, 30, 40, 1024)      4719616   \n",
            "_________________________________________________________________\n",
            "batch_normalization_37 (Batc (None, 30, 40, 1024)      4096      \n",
            "_________________________________________________________________\n",
            "max_pooling2d_14 (MaxPooling (None, 15, 20, 1024)      0         \n",
            "_________________________________________________________________\n",
            "conv2d_54 (Conv2D)           (None, 15, 20, 512)       524800    \n",
            "_________________________________________________________________\n",
            "conv2d_55 (Conv2D)           (None, 15, 20, 1024)      4719616   \n",
            "_________________________________________________________________\n",
            "batch_normalization_38 (Batc (None, 15, 20, 1024)      4096      \n",
            "_________________________________________________________________\n",
            "conv2d_56 (Conv2D)           (None, 15, 20, 512)       524800    \n",
            "_________________________________________________________________\n",
            "conv2d_57 (Conv2D)           (None, 15, 20, 1024)      4719616   \n",
            "_________________________________________________________________\n",
            "batch_normalization_39 (Batc (None, 15, 20, 1024)      4096      \n",
            "_________________________________________________________________\n",
            "conv2d_58 (Conv2D)           (None, 15, 20, 1024)      9438208   \n",
            "_________________________________________________________________\n",
            "batch_normalization_40 (Batc (None, 15, 20, 1024)      4096      \n",
            "_________________________________________________________________\n",
            "conv2d_59 (Conv2D)           (None, 13, 18, 1024)      9438208   \n",
            "_________________________________________________________________\n",
            "batch_normalization_41 (Batc (None, 13, 18, 1024)      4096      \n",
            "_________________________________________________________________\n",
            "conv2d_60 (Conv2D)           (None, 12, 16, 1024)      6292480   \n",
            "_________________________________________________________________\n",
            "batch_normalization_42 (Batc (None, 12, 16, 1024)      4096      \n",
            "_________________________________________________________________\n",
            "dense_6 (Dense)              (None, 12, 16, 64)        65600     \n",
            "_________________________________________________________________\n",
            "batch_normalization_43 (Batc (None, 12, 16, 64)        256       \n",
            "_________________________________________________________________\n",
            "flatten_2 (Flatten)          (None, 12288)             0         \n",
            "_________________________________________________________________\n",
            "dense_7 (Dense)              (None, 1024)              12583936  \n",
            "_________________________________________________________________\n",
            "batch_normalization_44 (Batc (None, 1024)              4096      \n",
            "_________________________________________________________________\n",
            "dense_8 (Dense)              (None, 960)               984000    \n",
            "_________________________________________________________________\n",
            "reshape_2 (Reshape)          (None, 12, 16, 5)         0         \n",
            "=================================================================\n",
            "Total params: 58,814,464\n",
            "Trainable params: 58,795,776\n",
            "Non-trainable params: 18,688\n",
            "_________________________________________________________________\n"
          ],
          "name": "stdout"
        }
      ]
    },
    {
      "cell_type": "markdown",
      "metadata": {
        "id": "alrCHoZQ8qJc"
      },
      "source": [
        "#Compile and training"
      ]
    },
    {
      "cell_type": "code",
      "metadata": {
        "id": "dZ6RicDnJqcJ",
        "colab": {
          "base_uri": "https://localhost:8080/"
        },
        "outputId": "cbac51f1-f70d-4ea8-ecc6-cf6dfb0a50e1"
      },
      "source": [
        "model.compile(\r\n",
        "    optimizer=keras.optimizers.RMSprop(),\r\n",
        "    loss='mean_squared_error',\r\n",
        "    metrics=None,\r\n",
        ")\r\n",
        "\r\n",
        "history = model.fit(\r\n",
        "    image_train,\r\n",
        "    text_train,\r\n",
        "    batch_size=5,\r\n",
        "    epochs=24,\r\n",
        "    # We pass some validation for\r\n",
        "    # monitoring validation loss and metrics\r\n",
        "    # at the end of each epoch\r\n",
        "    validation_data=(image_val, text_val),\r\n",
        ")"
      ],
      "execution_count": null,
      "outputs": [
        {
          "output_type": "stream",
          "text": [
            "Epoch 1/24\n",
            "380/380 [==============================] - 378s 880ms/step - loss: 0.0444 - val_loss: 0.1604\n",
            "Epoch 2/24\n",
            "380/380 [==============================] - 333s 875ms/step - loss: 0.0071 - val_loss: 0.1263\n",
            "Epoch 3/24\n",
            "380/380 [==============================] - 333s 876ms/step - loss: 0.0054 - val_loss: 0.1048\n",
            "Epoch 4/24\n",
            "380/380 [==============================] - 333s 878ms/step - loss: 0.0039 - val_loss: 0.0032\n",
            "Epoch 5/24\n",
            "380/380 [==============================] - 333s 876ms/step - loss: 0.0030 - val_loss: 0.0015\n",
            "Epoch 6/24\n",
            "380/380 [==============================] - 333s 876ms/step - loss: 0.0023 - val_loss: 0.0018\n",
            "Epoch 7/24\n",
            "380/380 [==============================] - 333s 876ms/step - loss: 0.0018 - val_loss: 0.0016\n",
            "Epoch 8/24\n",
            "380/380 [==============================] - 333s 875ms/step - loss: 0.0014 - val_loss: 0.0014\n",
            "Epoch 9/24\n",
            "380/380 [==============================] - 333s 876ms/step - loss: 0.0013 - val_loss: 0.0013\n",
            "Epoch 10/24\n",
            "380/380 [==============================] - 333s 877ms/step - loss: 0.0012 - val_loss: 0.0014\n",
            "Epoch 11/24\n",
            "380/380 [==============================] - 333s 876ms/step - loss: 0.0012 - val_loss: 0.0012\n",
            "Epoch 12/24\n",
            "380/380 [==============================] - 333s 876ms/step - loss: 0.0012 - val_loss: 0.0012\n",
            "Epoch 13/24\n",
            "380/380 [==============================] - 332s 875ms/step - loss: 0.0012 - val_loss: 0.0012\n",
            "Epoch 14/24\n",
            "380/380 [==============================] - 333s 877ms/step - loss: 0.0011 - val_loss: 0.0012\n",
            "Epoch 15/24\n",
            "380/380 [==============================] - 333s 877ms/step - loss: 0.0011 - val_loss: 0.0014\n",
            "Epoch 16/24\n",
            "380/380 [==============================] - 333s 876ms/step - loss: 0.0010 - val_loss: 0.0011\n",
            "Epoch 17/24\n",
            "380/380 [==============================] - 333s 876ms/step - loss: 9.7174e-04 - val_loss: 0.0012\n",
            "Epoch 18/24\n",
            "380/380 [==============================] - 333s 877ms/step - loss: 8.6153e-04 - val_loss: 0.0011\n",
            "Epoch 19/24\n",
            "380/380 [==============================] - 334s 879ms/step - loss: 7.7451e-04 - val_loss: 9.3234e-04\n",
            "Epoch 20/24\n",
            "380/380 [==============================] - 333s 876ms/step - loss: 7.4329e-04 - val_loss: 0.0010\n",
            "Epoch 21/24\n",
            "380/380 [==============================] - 333s 876ms/step - loss: 6.8475e-04 - val_loss: 7.9085e-04\n",
            "Epoch 22/24\n",
            "380/380 [==============================] - 333s 877ms/step - loss: 6.4694e-04 - val_loss: 6.2430e-04\n",
            "Epoch 23/24\n",
            "380/380 [==============================] - 333s 876ms/step - loss: 6.2585e-04 - val_loss: 6.1165e-04\n",
            "Epoch 24/24\n",
            "380/380 [==============================] - 333s 876ms/step - loss: 6.0281e-04 - val_loss: 7.9485e-04\n"
          ],
          "name": "stdout"
        }
      ]
    },
    {
      "cell_type": "code",
      "metadata": {
        "id": "3BxoMe3JSnX9",
        "colab": {
          "base_uri": "https://localhost:8080/"
        },
        "outputId": "bba6e985-98de-4422-b339-e8a018a44a66"
      },
      "source": [
        "score = model.evaluate(image_val,text_val)\r\n",
        "print(score)"
      ],
      "execution_count": null,
      "outputs": [
        {
          "output_type": "stream",
          "text": [
            "4/4 [==============================] - 2s 526ms/step - loss: 7.9485e-04\n",
            "0.000794848136138171\n"
          ],
          "name": "stdout"
        }
      ]
    },
    {
      "cell_type": "markdown",
      "metadata": {
        "id": "f5kY4qlcJ6lw"
      },
      "source": [
        "#Predict and testing"
      ]
    },
    {
      "cell_type": "code",
      "metadata": {
        "colab": {
          "base_uri": "https://localhost:8080/"
        },
        "id": "x-aqgx6In-zv",
        "outputId": "d4b1285a-e456-42b9-c0a1-335739fc8aa1"
      },
      "source": [
        "# Generate predictions (probabilities = the output of the last layer)\r\n",
        "# on new data using `predict`\r\n",
        "#number of test\r\n",
        "numtest = 500\r\n",
        "#use model to predict\r\n",
        "predictions = model.predict(image_train[:numtest])\r\n",
        "predict_x = []\r\n",
        "predict_y = []\r\n",
        "#print(predictions) \r\n",
        "\r\n",
        "#find the max probabilities\r\n",
        "for i in range(numtest):\r\n",
        "  max = -0.1\r\n",
        "  position_x = 0\r\n",
        "  position_y = 0\r\n",
        "  for j in range(6):\r\n",
        "    for k in range(8):\r\n",
        "      if max < predictions[i][j][k][0]:\r\n",
        "        max = predictions[i][j][k][0]\r\n",
        "        position_x = j\r\n",
        "        position_y = k\r\n",
        "  predict_x.append(position_x)\r\n",
        "  predict_y.append(position_y)\r\n",
        "#print(predict_result)\r\n",
        "#print(y_test[:numtest])\r\n",
        "grid_accuracy = 0\r\n",
        "for i in range(len(predict_x)):\r\n",
        "  check = text_train[i][predict_x[i]][predict_y[i]][0]\r\n",
        "  if check == 1:\r\n",
        "    grid_accuracy += 1\r\n",
        "print(grid_accuracy)"
      ],
      "execution_count": null,
      "outputs": [
        {
          "output_type": "stream",
          "text": [
            "0\n"
          ],
          "name": "stdout"
        }
      ]
    },
    {
      "cell_type": "code",
      "metadata": {
        "colab": {
          "base_uri": "https://localhost:8080/"
        },
        "id": "ASSB0ugww1-9",
        "outputId": "1bdbec2e-3857-4325-c8ca-b49717a1f8c6"
      },
      "source": [
        "# Generate predictions (probabilities = the output of the last layer)\r\n",
        "# on new data using `predict`\r\n",
        "#number of test\r\n",
        "numtest = 20\r\n",
        "#use model to predict\r\n",
        "predictions = model.predict(image_test[:numtest])\r\n",
        "predict_x = []\r\n",
        "predict_y = []\r\n",
        "#print(predictions) \r\n",
        "\r\n",
        "#find the max probabilities\r\n",
        "for i in range(numtest):\r\n",
        "  max = -0.1\r\n",
        "  position_x = 0\r\n",
        "  position_y = 0\r\n",
        "  for j in range(12):\r\n",
        "    for k in range(16):\r\n",
        "      if max < predictions[i][j][k][0]:\r\n",
        "        max = predictions[i][j][k][0]\r\n",
        "        position_x = j\r\n",
        "        position_y = k\r\n",
        "  predict_x.append(position_x)\r\n",
        "  predict_y.append(position_y)\r\n",
        "#print(predict_result)\r\n",
        "#print(y_test[:numtest])\r\n",
        "grid_accuracy = 0\r\n",
        "for i in range(len(predict_x)):\r\n",
        "  print(\"predict:\")\r\n",
        "  print(predictions[i][predict_x[i]][predict_y[i]])\r\n",
        "  #print(\"truth:\")\r\n",
        "  #print(text_train[i][predict_x[i]][predict_y[i]])\r\n",
        "  check = text_train[i][predict_x[i]][predict_y[i]][0]\r\n",
        "  if check == 1:\r\n",
        "    grid_accuracy += 1\r\n",
        "#print(grid_accuracy)"
      ],
      "execution_count": null,
      "outputs": [
        {
          "output_type": "stream",
          "text": [
            "predict:\n",
            "[0.942759   0.45102683 0.5750488  0.4572577  0.44752154]\n",
            "predict:\n",
            "[0.99672395 0.5861452  0.5290743  0.4083625  0.41715124]\n",
            "predict:\n",
            "[0.991848   0.3281233  0.3831413  0.4044333  0.40309134]\n",
            "predict:\n",
            "[0.9701001  0.5334831  0.53887063 0.48204684 0.48229727]\n",
            "predict:\n",
            "[0.99154836 0.549916   0.49021223 0.4779265  0.4917032 ]\n",
            "predict:\n",
            "[0.14356965 0.564025   0.48397574 0.49628675 0.5094258 ]\n",
            "predict:\n",
            "[0.8247894  0.5673854  0.42559338 0.49146974 0.52047634]\n",
            "predict:\n",
            "[0.06320234 0.4934062  0.5090427  0.49596617 0.49531913]\n",
            "predict:\n",
            "[0.99559915 0.51493746 0.5184651  0.4789293  0.49025998]\n",
            "predict:\n",
            "[0.9812083  0.5034744  0.5189807  0.46630785 0.4416232 ]\n",
            "predict:\n",
            "[0.10289271 0.4928516  0.4820733  0.49454722 0.49039072]\n",
            "predict:\n",
            "[0.99961096 0.4354078  0.5698636  0.3684219  0.37392747]\n",
            "predict:\n",
            "[0.4604356  0.46140653 0.7462542  0.4436986  0.44900772]\n",
            "predict:\n",
            "[0.960625   0.2816237  0.44071415 0.4139358  0.4106098 ]\n",
            "predict:\n",
            "[0.9887766  0.45620176 0.70505    0.41004285 0.41373762]\n",
            "predict:\n",
            "[0.9927763  0.4767905  0.38309568 0.47487125 0.4871613 ]\n",
            "predict:\n",
            "[0.986888   0.49588624 0.28573522 0.40369576 0.4123048 ]\n",
            "predict:\n",
            "[0.96106446 0.30293006 0.47239387 0.4245835  0.42783242]\n",
            "predict:\n",
            "[0.92357963 0.4464136  0.4983674  0.463914   0.46040183]\n",
            "predict:\n",
            "[0.2540992 0.5218302 0.4823322 0.4933558 0.4918678]\n"
          ],
          "name": "stdout"
        }
      ]
    },
    {
      "cell_type": "code",
      "metadata": {
        "id": "fXxa1AW2v_OY"
      },
      "source": [
        "pred = model.predict(image_test[:1])\r\n",
        "print(pred)"
      ],
      "execution_count": null,
      "outputs": []
    },
    {
      "cell_type": "markdown",
      "metadata": {
        "id": "DUoD98jD8zCL"
      },
      "source": [
        "##IOU"
      ]
    },
    {
      "cell_type": "code",
      "metadata": {
        "id": "7Tw-4JYtJYwI"
      },
      "source": [
        "def maxi(a,b):\r\n",
        "  if(a < b):\r\n",
        "    return b\r\n",
        "  else:\r\n",
        "    return a\r\n",
        "def mini(a,b):\r\n",
        "  if(a < b):\r\n",
        "    return a\r\n",
        "  else:\r\n",
        "    return b\r\n",
        "def bb_iou(boxA, boxB):\r\n",
        "\t# determine the (x, y)-coordinates of the intersection rectangle\r\n",
        "\txA = maxi(boxA[0], boxB[0])\r\n",
        "\tyA = maxi(boxA[1], boxB[1])\r\n",
        "\txB = mini(boxA[2], boxB[2])\r\n",
        "\tyB = mini(boxA[3], boxB[3])\r\n",
        "\t# compute the area of intersection rectangle\r\n",
        "\tinterArea = (xB - xA) * (yB - yA)\r\n",
        "\t# compute the area of both the prediction and ground-truth\r\n",
        "\t# rectangles\r\n",
        "\tboxAArea = (boxA[2] - boxA[0]) * (boxA[3] - boxA[1])\r\n",
        "\tboxBArea = (boxB[2] - boxB[0]) * (boxB[3] - boxB[1])\r\n",
        "\t# compute the intersection over union by taking the intersection\r\n",
        "\t# area and dividing it by the sum of prediction + ground-truth\r\n",
        "\t# areas - the interesection area\r\n",
        "\tiou = interArea / float(boxAArea + boxBArea - interArea)\r\n",
        "\t# return the intersection over union value\r\n",
        "\treturn iou"
      ],
      "execution_count": null,
      "outputs": []
    },
    {
      "cell_type": "code",
      "metadata": {
        "colab": {
          "base_uri": "https://localhost:8080/"
        },
        "id": "D8sfFhgkzRa-",
        "outputId": "c25673a0-2384-4bc4-c882-6bc9054498e2"
      },
      "source": [
        "predict_box = []\r\n",
        "predict_box.append(1)\r\n",
        "predict_box.append(1)\r\n",
        "predict_box.append(2)\r\n",
        "predict_box.append(2)\r\n",
        "real_box = [1,1,3,3]\r\n",
        "iou = bb_iou(predict_box,real_box)\r\n",
        "print(iou)"
      ],
      "execution_count": null,
      "outputs": [
        {
          "output_type": "stream",
          "text": [
            "0.25\n"
          ],
          "name": "stdout"
        }
      ]
    },
    {
      "cell_type": "code",
      "metadata": {
        "colab": {
          "base_uri": "https://localhost:8080/"
        },
        "id": "eX3ktWCU_apO",
        "outputId": "61bf200b-52a3-42d5-f16c-7338bfd0522c"
      },
      "source": [
        "# Generate predictions (probabilities = the output of the last layer)\r\n",
        "# on new data using `predict`\r\n",
        "#number of test\r\n",
        "numtest = 500\r\n",
        "#use model to predict\r\n",
        "predictions = model.predict(image_test[:numtest])\r\n",
        "predict_x = []\r\n",
        "predict_y = []\r\n",
        "predictions_box = []\r\n",
        "truth_box = []\r\n",
        "great_predict = 0 #iou>0.7\r\n",
        "good_predict = 0 #iou>0.5\r\n",
        "ok_predict = 0 #iou>0.3\r\n",
        "#print(predictions) \r\n",
        "\r\n",
        "#find the max probabilities\r\n",
        "for i in range(numtest):\r\n",
        "  max = -0.1\r\n",
        "  position_x = 0\r\n",
        "  position_y = 0\r\n",
        "  for j in range(12):\r\n",
        "    for k in range(16):\r\n",
        "      if max < predictions[i][j][k][0]:\r\n",
        "        max = predictions[i][j][k][0]\r\n",
        "        position_x = j\r\n",
        "        position_y = k\r\n",
        "  predict_x.append(position_x)\r\n",
        "  predict_y.append(position_y)\r\n",
        "#print(predict_result)\r\n",
        "#print(y_test[:numtest])\r\n",
        "grid_accuracy = 0\r\n",
        "for i in range(len(predict_x)):\r\n",
        "  #print(\"predict:\")\r\n",
        "  #print(predictions[i][predict_x[i]][predict_y[i]])\r\n",
        "  #print(\"truth:\")\r\n",
        "  #print(text_test[i][predict_x[i]][predict_y[i]])\r\n",
        "  predict_box = []\r\n",
        "  predict_box.append((predictions[i][predict_x[i]][predict_y[i]][1]+predict_x[i])*40 - predictions[i][predict_x[i]][predict_y[i]][3]*120)\r\n",
        "  predict_box.append((predictions[i][predict_x[i]][predict_y[i]][2]+predict_y[i])*40 - predictions[i][predict_x[i]][predict_y[i]][4]*160)\r\n",
        "  predict_box.append((predictions[i][predict_x[i]][predict_y[i]][1]+predict_x[i])*40 + predictions[i][predict_x[i]][predict_y[i]][3]*120)\r\n",
        "  predict_box.append((predictions[i][predict_x[i]][predict_y[i]][2]+predict_y[i])*40 + predictions[i][predict_x[i]][predict_y[i]][4]*160)\r\n",
        "  #print(predict_box)\r\n",
        "  predictions_box.append(predict_box)\r\n",
        "  test_box = []\r\n",
        "  test_box.append(text_test[i][1])\r\n",
        "  test_box.append(text_test[i][0])\r\n",
        "  test_box.append(text_test[i][3])\r\n",
        "  test_box.append(text_test[i][2])\r\n",
        "  #print(test_box)\r\n",
        "  truth_box.append(test_box)\r\n",
        "  #print(bb_iou(predict_box,test_box))\r\n",
        "  if(bb_iou(predict_box,test_box) > 0.7):\r\n",
        "    great_predict += 1\r\n",
        "  if(bb_iou(predict_box,test_box) > 0.5):\r\n",
        "    good_predict += 1\r\n",
        "  if(bb_iou(predict_box,test_box) > 0.3):\r\n",
        "    ok_predict += 1\r\n",
        "print(great_predict)\r\n",
        "print(good_predict)\r\n",
        "print(ok_predict)"
      ],
      "execution_count": null,
      "outputs": [
        {
          "output_type": "stream",
          "text": [
            "184\n",
            "442\n",
            "483\n"
          ],
          "name": "stdout"
        }
      ]
    },
    {
      "cell_type": "code",
      "metadata": {
        "colab": {
          "base_uri": "https://localhost:8080/"
        },
        "id": "mt3PaiLPelYE",
        "outputId": "6643d4d0-5199-4fe2-eb1d-414ea81bc417"
      },
      "source": [
        "True_positives = good_predict\r\n",
        "False_positives = numtest - True_positives\r\n",
        "False_negatives = False_positives\r\n",
        "Precision = True_positives / (True_positives + False_positives)\r\n",
        "Recall = True_positives / (True_positives + False_negatives)\r\n",
        "F_1 = 2 * Precision * Recall / (Precision + Recall)\r\n",
        "print(True_positives)\r\n",
        "print(False_positives)\r\n",
        "print(False_negatives)\r\n",
        "print(Precision)\r\n",
        "print(Recall)\r\n",
        "print(F_1)"
      ],
      "execution_count": null,
      "outputs": [
        {
          "output_type": "stream",
          "text": [
            "442\n",
            "58\n",
            "58\n",
            "0.884\n",
            "0.884\n",
            "0.884\n"
          ],
          "name": "stdout"
        }
      ]
    },
    {
      "cell_type": "code",
      "metadata": {
        "colab": {
          "base_uri": "https://localhost:8080/",
          "height": 269
        },
        "id": "b-NvtS5uLv8-",
        "outputId": "3a5bd0ae-eed6-455e-82c7-43e2bd8aaa09"
      },
      "source": [
        "current_img = 446\r\n",
        "if current_img < 10 :\r\n",
        "  img = mpimg.imread('image_150'+str(current_img + 1)+'.jpg')\r\n",
        "elif current_img < 100 :\r\n",
        "  img = mpimg.imread('image_15'+str(current_img + 1)+'.jpg')\r\n",
        "else :\r\n",
        "  img = mpimg.imread('image_1'+str(current_img + 501)+'.jpg')\r\n",
        "# Start coordinate\r\n",
        "# represents the top left corner of rectangle \r\n",
        "start_point_truth = (truth_box[current_img][1], truth_box[current_img][0]) \r\n",
        "start_point_predict = (round(predictions_box[current_img][1]), round(predictions_box[current_img][0]))\r\n",
        "# Ending coordinate\r\n",
        "# represents the bottom right corner of rectangle \r\n",
        "end_point_truth = (truth_box[current_img][3], truth_box[current_img][2]) \r\n",
        "end_point_predict = (round(predictions_box[current_img][3]), round(predictions_box[current_img][2]))\r\n",
        "color_truth = (0, 255, 0) \r\n",
        "color_predict = (255, 0, 0) \r\n",
        "# Line thickness of 1 px \r\n",
        "thickness = 3\r\n",
        "img = cv2.rectangle(img, start_point_truth, end_point_truth, color_truth, thickness)\r\n",
        "img = cv2.rectangle(img, start_point_predict, end_point_predict, color_predict, thickness)\r\n",
        "plt.imshow(img)\r\n",
        "plt.show()"
      ],
      "execution_count": null,
      "outputs": [
        {
          "output_type": "display_data",
          "data": {
            "image/png": "[encoded data removed]",
            "text/plain": [
              "<Figure size 432x288 with 1 Axes>"
            ]
          },
          "metadata": {
            "tags": [],
            "needs_background": "light"
          }
        }
      ]
    },
    {
      "cell_type": "markdown",
      "metadata": {
        "id": "ucVurBacFnNP"
      },
      "source": [
        "#Save model"
      ]
    },
    {
      "cell_type": "code",
      "metadata": {
        "colab": {
          "base_uri": "https://localhost:8080/"
        },
        "id": "pcl6MCjJFmVM",
        "outputId": "aa6ff1c8-ea9e-4f9e-b46f-992ffaafe180"
      },
      "source": [
        "model.save(\"yolo_license_plate_model_4(12x16)\")"
      ],
      "execution_count": null,
      "outputs": [
        {
          "output_type": "stream",
          "text": [
            "WARNING:absl:Found untraced functions such as leaky_re_lu_45_layer_call_and_return_conditional_losses, leaky_re_lu_45_layer_call_fn, leaky_re_lu_46_layer_call_and_return_conditional_losses, leaky_re_lu_46_layer_call_fn, leaky_re_lu_47_layer_call_and_return_conditional_losses while saving (showing 5 of 110). These functions will not be directly callable after loading.\n",
            "WARNING:absl:Found untraced functions such as leaky_re_lu_45_layer_call_and_return_conditional_losses, leaky_re_lu_45_layer_call_fn, leaky_re_lu_46_layer_call_and_return_conditional_losses, leaky_re_lu_46_layer_call_fn, leaky_re_lu_47_layer_call_and_return_conditional_losses while saving (showing 5 of 110). These functions will not be directly callable after loading.\n"
          ],
          "name": "stderr"
        }
      ]
    },
    {
      "cell_type": "markdown",
      "metadata": {
        "id": "MEfAOu_XrCX2"
      },
      "source": [
        "#Testing random code"
      ]
    },
    {
      "cell_type": "code",
      "metadata": {
        "id": "8hB0-41yacHo"
      },
      "source": [
        "current_img = 49\r\n",
        "if current_img < 10 :\r\n",
        "  img = mpimg.imread('image_150'+str(current_img + 1)+'.jpg')\r\n",
        "elif current_img < 100 :\r\n",
        "  img = mpimg.imread('image_15'+str(current_img + 1)+'.jpg')\r\n",
        "else :\r\n",
        "  img = mpimg.imread('image_1'+str(current_img + 501)+'.jpg')\r\n",
        "# Start coordinate\r\n",
        "# represents the top left corner of rectangle \r\n",
        "start_point_truth = (412, 200) \r\n",
        "start_point_predict = (round(predictions_box[current_img][1]), round(predictions_box[current_img][0]))\r\n",
        "# Ending coordinate\r\n",
        "# represents the bottom right corner of rectangle \r\n",
        "end_point_truth = (555, 315) \r\n",
        "end_point_predict = (round(predictions_box[current_img][3]), round(predictions_box[current_img][2]))\r\n",
        "color_truth = (0, 255, 0) \r\n",
        "color_predict = (255, 0, 0) \r\n",
        "# Line thickness of 1 px \r\n",
        "thickness = 3\r\n",
        "img = cv2.rectangle(img, start_point_truth, end_point_truth, color_truth, thickness)\r\n",
        "img = cv2.rectangle(img, start_point_predict, end_point_predict, color_predict, thickness)\r\n",
        "plt.imshow(img)\r\n",
        "plt.show()\r\n",
        "print(img.shape)"
      ],
      "execution_count": null,
      "outputs": []
    },
    {
      "cell_type": "code",
      "metadata": {
        "colab": {
          "base_uri": "https://localhost:8080/"
        },
        "id": "vimDhjkgPtcT",
        "outputId": "5750f976-db0c-41af-a4fe-1ea46bfe6a42"
      },
      "source": [
        "print(round(4.66))"
      ],
      "execution_count": null,
      "outputs": [
        {
          "output_type": "stream",
          "text": [
            "5\n"
          ],
          "name": "stdout"
        }
      ]
    },
    {
      "cell_type": "code",
      "metadata": {
        "colab": {
          "base_uri": "https://localhost:8080/"
        },
        "id": "UsRyYbmFwZvB",
        "outputId": "e9436e3c-9522-41b9-9908-3c1c8a6d081a"
      },
      "source": [
        "print(image_test[0].shape)"
      ],
      "execution_count": null,
      "outputs": [
        {
          "output_type": "stream",
          "text": [
            "(480, 640, 3)\n"
          ],
          "name": "stdout"
        }
      ]
    },
    {
      "cell_type": "code",
      "metadata": {
        "colab": {
          "base_uri": "https://localhost:8080/"
        },
        "id": "8A2KEEy54MZ_",
        "outputId": "497f41d6-bed1-4847-e7a0-03c688805326"
      },
      "source": [
        "print(text_train[10])"
      ],
      "execution_count": null,
      "outputs": [
        {
          "output_type": "stream",
          "text": [
            "[[[0.         0.5        0.5        0.5        0.5       ]\n",
            "  [0.         0.5        0.5        0.5        0.5       ]\n",
            "  [0.         0.5        0.5        0.5        0.5       ]\n",
            "  [0.         0.5        0.5        0.5        0.5       ]\n",
            "  [0.         0.5        0.5        0.5        0.5       ]\n",
            "  [0.         0.5        0.5        0.5        0.5       ]\n",
            "  [0.         0.5        0.5        0.5        0.5       ]\n",
            "  [0.         0.5        0.5        0.5        0.5       ]]\n",
            "\n",
            " [[0.         0.5        0.5        0.5        0.5       ]\n",
            "  [0.         0.5        0.5        0.5        0.5       ]\n",
            "  [0.         0.5        0.5        0.5        0.5       ]\n",
            "  [0.         0.5        0.5        0.5        0.5       ]\n",
            "  [0.         0.5        0.5        0.5        0.5       ]\n",
            "  [0.         0.5        0.5        0.5        0.5       ]\n",
            "  [0.         0.5        0.5        0.5        0.5       ]\n",
            "  [0.         0.5        0.5        0.5        0.5       ]]\n",
            "\n",
            " [[0.         0.5        0.5        0.5        0.5       ]\n",
            "  [0.         0.5        0.5        0.5        0.5       ]\n",
            "  [0.         0.5        0.5        0.5        0.5       ]\n",
            "  [0.         0.5        0.5        0.5        0.5       ]\n",
            "  [0.         0.5        0.5        0.5        0.5       ]\n",
            "  [0.         0.5        0.5        0.5        0.5       ]\n",
            "  [0.         0.5        0.5        0.5        0.5       ]\n",
            "  [0.         0.5        0.5        0.5        0.5       ]]\n",
            "\n",
            " [[0.         0.5        0.5        0.5        0.5       ]\n",
            "  [0.         0.5        0.5        0.5        0.5       ]\n",
            "  [0.         0.5        0.5        0.5        0.5       ]\n",
            "  [0.         0.5        0.5        0.5        0.5       ]\n",
            "  [0.         0.5        0.5        0.5        0.5       ]\n",
            "  [1.         0.61875    0.75625    0.1953125  0.21458333]\n",
            "  [0.         0.5        0.5        0.5        0.5       ]\n",
            "  [0.         0.5        0.5        0.5        0.5       ]]\n",
            "\n",
            " [[0.         0.5        0.5        0.5        0.5       ]\n",
            "  [0.         0.5        0.5        0.5        0.5       ]\n",
            "  [0.         0.5        0.5        0.5        0.5       ]\n",
            "  [0.         0.5        0.5        0.5        0.5       ]\n",
            "  [0.         0.5        0.5        0.5        0.5       ]\n",
            "  [0.         0.5        0.5        0.5        0.5       ]\n",
            "  [0.         0.5        0.5        0.5        0.5       ]\n",
            "  [0.         0.5        0.5        0.5        0.5       ]]\n",
            "\n",
            " [[0.         0.5        0.5        0.5        0.5       ]\n",
            "  [0.         0.5        0.5        0.5        0.5       ]\n",
            "  [0.         0.5        0.5        0.5        0.5       ]\n",
            "  [0.         0.5        0.5        0.5        0.5       ]\n",
            "  [0.         0.5        0.5        0.5        0.5       ]\n",
            "  [0.         0.5        0.5        0.5        0.5       ]\n",
            "  [0.         0.5        0.5        0.5        0.5       ]\n",
            "  [0.         0.5        0.5        0.5        0.5       ]]]\n"
          ],
          "name": "stdout"
        }
      ]
    },
    {
      "cell_type": "code",
      "metadata": {
        "colab": {
          "base_uri": "https://localhost:8080/"
        },
        "id": "Rh_o3qFdrB8v",
        "outputId": "e6c0305a-a99d-4db9-b388-8a3a588e6f0f"
      },
      "source": [
        "pre = []\r\n",
        "pre.append([1,2])\r\n",
        "pre.append(2)\r\n",
        "pre.append(2)\r\n",
        "print(len(pre[0]))"
      ],
      "execution_count": null,
      "outputs": [
        {
          "output_type": "stream",
          "text": [
            "2\n"
          ],
          "name": "stdout"
        }
      ]
    },
    {
      "cell_type": "code",
      "metadata": {
        "colab": {
          "base_uri": "https://localhost:8080/"
        },
        "id": "ePxZOZ-g-6tV",
        "outputId": "41d194ef-368e-4852-8256-2466fbe90a9e"
      },
      "source": [
        "m = 0.29375\r\n",
        "n = 0.1328125\r\n",
        "print(0.29375*640)\r\n",
        "print(0.1328125*640)\r\n",
        "print(0.31875*480)\r\n",
        "print(0.13333333333333333*480)"
      ],
      "execution_count": null,
      "outputs": [
        {
          "output_type": "stream",
          "text": [
            "188.0\n",
            "85.0\n",
            "153.0\n",
            "64.0\n"
          ],
          "name": "stdout"
        }
      ]
    },
    {
      "cell_type": "markdown",
      "metadata": {
        "id": "hwfuQMNOZgC0"
      },
      "source": [
        "#Plot model"
      ]
    },
    {
      "cell_type": "code",
      "metadata": {
        "id": "ZYCKfRusZnr6"
      },
      "source": [
        "tf.keras.utils.plot_model(\r\n",
        "    model,\r\n",
        "    to_file=\"model.png\",\r\n",
        "    show_shapes=False,\r\n",
        "    show_dtype=False,\r\n",
        "    show_layer_names=True,\r\n",
        "    rankdir=\"TB\",\r\n",
        "    expand_nested=False,\r\n",
        "    dpi=96,\r\n",
        ")"
      ],
      "execution_count": null,
      "outputs": []
    }
  ]
}